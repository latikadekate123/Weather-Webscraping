{
  "nbformat": 4,
  "nbformat_minor": 0,
  "metadata": {
    "colab": {
      "provenance": []
    },
    "kernelspec": {
      "name": "python3",
      "display_name": "Python 3"
    },
    "language_info": {
      "name": "python"
    }
  },
  "cells": [
    {
      "cell_type": "code",
      "execution_count": null,
      "metadata": {
        "id": "XSBF5K49h1Mp"
      },
      "outputs": [],
      "source": [
        "import requests\n",
        "from bs4 import BeautifulSoup"
      ]
    },
    {
      "cell_type": "code",
      "source": [
        "city = str(input(\"\\n Enter city name: \"))"
      ],
      "metadata": {
        "id": "9-o1H38HBkOF"
      },
      "execution_count": null,
      "outputs": []
    },
    {
      "cell_type": "code",
      "source": [
        "url = \"https://www.google.com/search?q=weather\"+city\n",
        "html = requests.get(url).content\n",
        "soup = BeautifulSoup(html,'html.parser')"
      ],
      "metadata": {
        "id": "E4F9m0KLFq2s"
      },
      "execution_count": null,
      "outputs": []
    },
    {
      "cell_type": "code",
      "source": [
        "temp = soup.find('div',attrs={'class': 'BNeawe iBp4i AP7Wnd'})\n",
        "if temp:\n",
        "    text = temp.text\n",
        "print(temp)"
      ],
      "metadata": {
        "id": "0dlVRbZ3Fq7t"
      },
      "execution_count": null,
      "outputs": []
    },
    {
      "cell_type": "code",
      "source": [
        "timesky = soup.find('div',attrs={'class': 'BNeawe tAd8D AP7Wnd'})\n",
        "if timesky:\n",
        "    text = timesky.text\n",
        "print(timesky)"
      ],
      "metadata": {
        "id": "akhHwlIbWOHl"
      },
      "execution_count": null,
      "outputs": []
    },
    {
      "cell_type": "code",
      "source": [
        "if timesky is not None:\n",
        "  data = timesky.split('\\n')\n",
        "  time = data[0]\n",
        "  sky = data[1]"
      ],
      "metadata": {
        "id": "6w_pWji9Fq_g"
      },
      "execution_count": null,
      "outputs": []
    },
    {
      "cell_type": "code",
      "source": [
        "listdiv = soup.findAll('div',attrs={'class': 'BNeawe s3v9rd AP7Wnd'})\n",
        "print(listdiv)"
      ],
      "metadata": {
        "id": "MIC8fMuHHO08"
      },
      "execution_count": null,
      "outputs": []
    },
    {
      "cell_type": "code",
      "source": [
        "strd = listdiv[5].text"
      ],
      "metadata": {
        "id": "-eZn1WpFVnN-"
      },
      "execution_count": null,
      "outputs": []
    },
    {
      "cell_type": "code",
      "source": [
        "pos = strd.find('Wind')\n",
        "other = strd[pos:]"
      ],
      "metadata": {
        "id": "3C2odunFHO3y"
      },
      "execution_count": null,
      "outputs": []
    },
    {
      "cell_type": "code",
      "source": [
        "print(\"\\n Temperature:\",temp)\n",
        "print(\"\\n Time: \",time)\n",
        "print(\"\\n Sky Description: \",sky)\n",
        "print(other)"
      ],
      "metadata": {
        "id": "70qRdbZrIHmM"
      },
      "execution_count": null,
      "outputs": []
    }
  ]
}